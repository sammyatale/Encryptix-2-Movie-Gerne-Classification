{
 "cells": [
  {
   "cell_type": "code",
   "execution_count": 2,
   "id": "1e08f0ab",
   "metadata": {},
   "outputs": [],
   "source": [
    "import tensorflow as tf\n",
    "import os\n",
    "import sklearn  \n",
    "import re\n",
    "import pandas as pd"
   ]
  },
  {
   "cell_type": "code",
   "execution_count": 3,
   "id": "e5635e47",
   "metadata": {},
   "outputs": [],
   "source": [
    "train_data = r'C:\\Users\\WWD_5\\OneDrive\\Desktop\\INternship Tasks\\Second Task\\movie_env\\train_data.txt'\n"
   ]
  },
  {
   "cell_type": "code",
   "execution_count": 4,
   "id": "5d4dd3dc",
   "metadata": {},
   "outputs": [],
   "source": [
    "test_data =  r'C:\\Users\\WWD_5\\OneDrive\\Desktop\\INternship Tasks\\Second Task\\movie_env\\test_data.txt'\n"
   ]
  },
  {
   "cell_type": "code",
   "execution_count": 5,
   "id": "d92b42fe",
   "metadata": {},
   "outputs": [],
   "source": [
    "def testdata(filepath):\n",
    "    data = []\n",
    "    with open(filepath, 'r',encoding='utf-8') as file:\n",
    "        for line in file:\n",
    "            parts =  line.strip().split(' ::: ')\n",
    "            if len(parts) ==  3:\n",
    "                data.append(parts)\n",
    "\n",
    "    return pd.DataFrame(data, columns=['ID', 'Title', 'Description'])\n"
   ]
  },
  {
   "cell_type": "code",
   "execution_count": 6,
   "id": "59baf7be",
   "metadata": {},
   "outputs": [],
   "source": [
    "def traindata(filepath):\n",
    "    data = []\n",
    "    with open(filepath, 'r', encoding='utf-8') as file:\n",
    "        for line in file:\n",
    "            parts = line.strip().split(' ::: ')\n",
    "            if len(parts) ==  4:\n",
    "                data.append(parts)\n",
    "    \n",
    "    return pd.DataFrame(data, columns =['ID', 'Title', 'Gerne', 'Description'])"
   ]
  },
  {
   "cell_type": "code",
   "execution_count": 7,
   "id": "db1f546c",
   "metadata": {},
   "outputs": [],
   "source": [
    "test_df =  testdata(test_data)\n",
    "train_df =  traindata(train_data)"
   ]
  },
  {
   "cell_type": "code",
   "execution_count": 8,
   "id": "32896667",
   "metadata": {},
   "outputs": [
    {
     "data": {
      "text/html": [
       "<div>\n",
       "<style scoped>\n",
       "    .dataframe tbody tr th:only-of-type {\n",
       "        vertical-align: middle;\n",
       "    }\n",
       "\n",
       "    .dataframe tbody tr th {\n",
       "        vertical-align: top;\n",
       "    }\n",
       "\n",
       "    .dataframe thead th {\n",
       "        text-align: right;\n",
       "    }\n",
       "</style>\n",
       "<table border=\"1\" class=\"dataframe\">\n",
       "  <thead>\n",
       "    <tr style=\"text-align: right;\">\n",
       "      <th></th>\n",
       "      <th>ID</th>\n",
       "      <th>Title</th>\n",
       "      <th>Description</th>\n",
       "    </tr>\n",
       "  </thead>\n",
       "  <tbody>\n",
       "    <tr>\n",
       "      <th>0</th>\n",
       "      <td>1</td>\n",
       "      <td>Edgar's Lunch (1998)</td>\n",
       "      <td>L.R. Brane loves his life - his car, his apart...</td>\n",
       "    </tr>\n",
       "    <tr>\n",
       "      <th>1</th>\n",
       "      <td>2</td>\n",
       "      <td>La guerra de papá (1977)</td>\n",
       "      <td>Spain, March 1964: Quico is a very naughty chi...</td>\n",
       "    </tr>\n",
       "    <tr>\n",
       "      <th>2</th>\n",
       "      <td>3</td>\n",
       "      <td>Off the Beaten Track (2010)</td>\n",
       "      <td>One year in the life of Albin and his family o...</td>\n",
       "    </tr>\n",
       "    <tr>\n",
       "      <th>3</th>\n",
       "      <td>4</td>\n",
       "      <td>Meu Amigo Hindu (2015)</td>\n",
       "      <td>His father has died, he hasn't spoken with his...</td>\n",
       "    </tr>\n",
       "    <tr>\n",
       "      <th>4</th>\n",
       "      <td>5</td>\n",
       "      <td>Er nu zhai (1955)</td>\n",
       "      <td>Before he was known internationally as a marti...</td>\n",
       "    </tr>\n",
       "  </tbody>\n",
       "</table>\n",
       "</div>"
      ],
      "text/plain": [
       "  ID                        Title  \\\n",
       "0  1         Edgar's Lunch (1998)   \n",
       "1  2     La guerra de papá (1977)   \n",
       "2  3  Off the Beaten Track (2010)   \n",
       "3  4       Meu Amigo Hindu (2015)   \n",
       "4  5            Er nu zhai (1955)   \n",
       "\n",
       "                                         Description  \n",
       "0  L.R. Brane loves his life - his car, his apart...  \n",
       "1  Spain, March 1964: Quico is a very naughty chi...  \n",
       "2  One year in the life of Albin and his family o...  \n",
       "3  His father has died, he hasn't spoken with his...  \n",
       "4  Before he was known internationally as a marti...  "
      ]
     },
     "execution_count": 8,
     "metadata": {},
     "output_type": "execute_result"
    }
   ],
   "source": [
    "test_df.head()"
   ]
  },
  {
   "cell_type": "code",
   "execution_count": 9,
   "id": "fde16750",
   "metadata": {},
   "outputs": [
    {
     "data": {
      "text/html": [
       "<div>\n",
       "<style scoped>\n",
       "    .dataframe tbody tr th:only-of-type {\n",
       "        vertical-align: middle;\n",
       "    }\n",
       "\n",
       "    .dataframe tbody tr th {\n",
       "        vertical-align: top;\n",
       "    }\n",
       "\n",
       "    .dataframe thead th {\n",
       "        text-align: right;\n",
       "    }\n",
       "</style>\n",
       "<table border=\"1\" class=\"dataframe\">\n",
       "  <thead>\n",
       "    <tr style=\"text-align: right;\">\n",
       "      <th></th>\n",
       "      <th>ID</th>\n",
       "      <th>Title</th>\n",
       "      <th>Gerne</th>\n",
       "      <th>Description</th>\n",
       "    </tr>\n",
       "  </thead>\n",
       "  <tbody>\n",
       "    <tr>\n",
       "      <th>0</th>\n",
       "      <td>1</td>\n",
       "      <td>Oscar et la dame rose (2009)</td>\n",
       "      <td>drama</td>\n",
       "      <td>Listening in to a conversation between his doc...</td>\n",
       "    </tr>\n",
       "    <tr>\n",
       "      <th>1</th>\n",
       "      <td>2</td>\n",
       "      <td>Cupid (1997)</td>\n",
       "      <td>thriller</td>\n",
       "      <td>A brother and sister with a past incestuous re...</td>\n",
       "    </tr>\n",
       "    <tr>\n",
       "      <th>2</th>\n",
       "      <td>3</td>\n",
       "      <td>Young, Wild and Wonderful (1980)</td>\n",
       "      <td>adult</td>\n",
       "      <td>As the bus empties the students for their fiel...</td>\n",
       "    </tr>\n",
       "    <tr>\n",
       "      <th>3</th>\n",
       "      <td>4</td>\n",
       "      <td>The Secret Sin (1915)</td>\n",
       "      <td>drama</td>\n",
       "      <td>To help their unemployed father make ends meet...</td>\n",
       "    </tr>\n",
       "    <tr>\n",
       "      <th>4</th>\n",
       "      <td>5</td>\n",
       "      <td>The Unrecovered (2007)</td>\n",
       "      <td>drama</td>\n",
       "      <td>The film's title refers not only to the un-rec...</td>\n",
       "    </tr>\n",
       "  </tbody>\n",
       "</table>\n",
       "</div>"
      ],
      "text/plain": [
       "  ID                             Title     Gerne  \\\n",
       "0  1      Oscar et la dame rose (2009)     drama   \n",
       "1  2                      Cupid (1997)  thriller   \n",
       "2  3  Young, Wild and Wonderful (1980)     adult   \n",
       "3  4             The Secret Sin (1915)     drama   \n",
       "4  5            The Unrecovered (2007)     drama   \n",
       "\n",
       "                                         Description  \n",
       "0  Listening in to a conversation between his doc...  \n",
       "1  A brother and sister with a past incestuous re...  \n",
       "2  As the bus empties the students for their fiel...  \n",
       "3  To help their unemployed father make ends meet...  \n",
       "4  The film's title refers not only to the un-rec...  "
      ]
     },
     "execution_count": 9,
     "metadata": {},
     "output_type": "execute_result"
    }
   ],
   "source": [
    "train_df.head()"
   ]
  },
  {
   "cell_type": "code",
   "execution_count": 10,
   "id": "c6bd1a67",
   "metadata": {},
   "outputs": [],
   "source": [
    "import nltk\n",
    "from nltk.corpus import stopwords\n",
    "from sklearn.feature_extraction.text import TfidfVectorizer"
   ]
  },
  {
   "cell_type": "code",
   "execution_count": 11,
   "id": "f40934aa",
   "metadata": {},
   "outputs": [
    {
     "name": "stderr",
     "output_type": "stream",
     "text": [
      "[nltk_data] Error loading stopwords: <urlopen error [Errno 11001]\n",
      "[nltk_data]     getaddrinfo failed>\n"
     ]
    },
    {
     "data": {
      "text/plain": [
       "False"
      ]
     },
     "execution_count": 11,
     "metadata": {},
     "output_type": "execute_result"
    }
   ],
   "source": [
    "nltk.download('stopwords')"
   ]
  },
  {
   "cell_type": "markdown",
   "id": "618a3436",
   "metadata": {},
   "source": [
    "NOW WE WILL CLEAN THE DATA"
   ]
  },
  {
   "cell_type": "code",
   "execution_count": 12,
   "id": "a51b53a3",
   "metadata": {},
   "outputs": [],
   "source": [
    "#we are using regex function of the python in this \n",
    "#\\W is used to or its special sequence in regex to match non-word charector\n",
    "# and \\s+ is used to \n",
    "\n",
    "def clean(text):\n",
    "    text =  re.sub(r'\\W', ' ', text)\n",
    "    text =  re.sub(r'\\s+', ' ', text)\n",
    "    text = text.lower()\n",
    "    words =  text.split()\n",
    "\n",
    "    clean_words = []\n",
    "    for word in words:\n",
    "        if word not in stopwords.words('english'):\n",
    "            clean_words.append(word)\n",
    "\n",
    "    return  ' '.join(clean_words)\n",
    "\n",
    "    "
   ]
  },
  {
   "cell_type": "markdown",
   "id": "200f3a5d",
   "metadata": {},
   "source": [
    "we are using regex function of the python in this \\W is used to or its special sequence in regex to match non-word charector\n"
   ]
  },
  {
   "cell_type": "code",
   "execution_count": 13,
   "id": "7f9926d9",
   "metadata": {},
   "outputs": [],
   "source": [
    "train_df['cleaned_description'] = train_df['Description'].apply(clean)"
   ]
  },
  {
   "cell_type": "code",
   "execution_count": 14,
   "id": "0ef4b6c7",
   "metadata": {},
   "outputs": [],
   "source": [
    "test_df['cleaned_description'] =  test_df['Description'].apply(clean)"
   ]
  },
  {
   "cell_type": "code",
   "execution_count": 15,
   "id": "307a283b",
   "metadata": {},
   "outputs": [
    {
     "data": {
      "text/html": [
       "<div>\n",
       "<style scoped>\n",
       "    .dataframe tbody tr th:only-of-type {\n",
       "        vertical-align: middle;\n",
       "    }\n",
       "\n",
       "    .dataframe tbody tr th {\n",
       "        vertical-align: top;\n",
       "    }\n",
       "\n",
       "    .dataframe thead th {\n",
       "        text-align: right;\n",
       "    }\n",
       "</style>\n",
       "<table border=\"1\" class=\"dataframe\">\n",
       "  <thead>\n",
       "    <tr style=\"text-align: right;\">\n",
       "      <th></th>\n",
       "      <th>ID</th>\n",
       "      <th>Title</th>\n",
       "      <th>Gerne</th>\n",
       "      <th>Description</th>\n",
       "      <th>cleaned_description</th>\n",
       "    </tr>\n",
       "  </thead>\n",
       "  <tbody>\n",
       "    <tr>\n",
       "      <th>0</th>\n",
       "      <td>1</td>\n",
       "      <td>Oscar et la dame rose (2009)</td>\n",
       "      <td>drama</td>\n",
       "      <td>Listening in to a conversation between his doc...</td>\n",
       "      <td>listening conversation doctor parents 10 year ...</td>\n",
       "    </tr>\n",
       "    <tr>\n",
       "      <th>1</th>\n",
       "      <td>2</td>\n",
       "      <td>Cupid (1997)</td>\n",
       "      <td>thriller</td>\n",
       "      <td>A brother and sister with a past incestuous re...</td>\n",
       "      <td>brother sister past incestuous relationship cu...</td>\n",
       "    </tr>\n",
       "    <tr>\n",
       "      <th>2</th>\n",
       "      <td>3</td>\n",
       "      <td>Young, Wild and Wonderful (1980)</td>\n",
       "      <td>adult</td>\n",
       "      <td>As the bus empties the students for their fiel...</td>\n",
       "      <td>bus empties students field trip museum natural...</td>\n",
       "    </tr>\n",
       "    <tr>\n",
       "      <th>3</th>\n",
       "      <td>4</td>\n",
       "      <td>The Secret Sin (1915)</td>\n",
       "      <td>drama</td>\n",
       "      <td>To help their unemployed father make ends meet...</td>\n",
       "      <td>help unemployed father make ends meet edith tw...</td>\n",
       "    </tr>\n",
       "    <tr>\n",
       "      <th>4</th>\n",
       "      <td>5</td>\n",
       "      <td>The Unrecovered (2007)</td>\n",
       "      <td>drama</td>\n",
       "      <td>The film's title refers not only to the un-rec...</td>\n",
       "      <td>film title refers un recovered bodies ground z...</td>\n",
       "    </tr>\n",
       "  </tbody>\n",
       "</table>\n",
       "</div>"
      ],
      "text/plain": [
       "  ID                             Title     Gerne  \\\n",
       "0  1      Oscar et la dame rose (2009)     drama   \n",
       "1  2                      Cupid (1997)  thriller   \n",
       "2  3  Young, Wild and Wonderful (1980)     adult   \n",
       "3  4             The Secret Sin (1915)     drama   \n",
       "4  5            The Unrecovered (2007)     drama   \n",
       "\n",
       "                                         Description  \\\n",
       "0  Listening in to a conversation between his doc...   \n",
       "1  A brother and sister with a past incestuous re...   \n",
       "2  As the bus empties the students for their fiel...   \n",
       "3  To help their unemployed father make ends meet...   \n",
       "4  The film's title refers not only to the un-rec...   \n",
       "\n",
       "                                 cleaned_description  \n",
       "0  listening conversation doctor parents 10 year ...  \n",
       "1  brother sister past incestuous relationship cu...  \n",
       "2  bus empties students field trip museum natural...  \n",
       "3  help unemployed father make ends meet edith tw...  \n",
       "4  film title refers un recovered bodies ground z...  "
      ]
     },
     "execution_count": 15,
     "metadata": {},
     "output_type": "execute_result"
    }
   ],
   "source": [
    "train_df.head()"
   ]
  },
  {
   "cell_type": "code",
   "execution_count": 16,
   "id": "c5dfe5aa",
   "metadata": {},
   "outputs": [
    {
     "data": {
      "text/html": [
       "<div>\n",
       "<style scoped>\n",
       "    .dataframe tbody tr th:only-of-type {\n",
       "        vertical-align: middle;\n",
       "    }\n",
       "\n",
       "    .dataframe tbody tr th {\n",
       "        vertical-align: top;\n",
       "    }\n",
       "\n",
       "    .dataframe thead th {\n",
       "        text-align: right;\n",
       "    }\n",
       "</style>\n",
       "<table border=\"1\" class=\"dataframe\">\n",
       "  <thead>\n",
       "    <tr style=\"text-align: right;\">\n",
       "      <th></th>\n",
       "      <th>ID</th>\n",
       "      <th>Title</th>\n",
       "      <th>Description</th>\n",
       "      <th>cleaned_description</th>\n",
       "    </tr>\n",
       "  </thead>\n",
       "  <tbody>\n",
       "    <tr>\n",
       "      <th>0</th>\n",
       "      <td>1</td>\n",
       "      <td>Edgar's Lunch (1998)</td>\n",
       "      <td>L.R. Brane loves his life - his car, his apart...</td>\n",
       "      <td>l r brane loves life car apartment job especia...</td>\n",
       "    </tr>\n",
       "    <tr>\n",
       "      <th>1</th>\n",
       "      <td>2</td>\n",
       "      <td>La guerra de papá (1977)</td>\n",
       "      <td>Spain, March 1964: Quico is a very naughty chi...</td>\n",
       "      <td>spain march 1964 quico naughty child three bel...</td>\n",
       "    </tr>\n",
       "    <tr>\n",
       "      <th>2</th>\n",
       "      <td>3</td>\n",
       "      <td>Off the Beaten Track (2010)</td>\n",
       "      <td>One year in the life of Albin and his family o...</td>\n",
       "      <td>one year life albin family shepherds north tra...</td>\n",
       "    </tr>\n",
       "    <tr>\n",
       "      <th>3</th>\n",
       "      <td>4</td>\n",
       "      <td>Meu Amigo Hindu (2015)</td>\n",
       "      <td>His father has died, he hasn't spoken with his...</td>\n",
       "      <td>father died spoken brother 10 years serious ca...</td>\n",
       "    </tr>\n",
       "    <tr>\n",
       "      <th>4</th>\n",
       "      <td>5</td>\n",
       "      <td>Er nu zhai (1955)</td>\n",
       "      <td>Before he was known internationally as a marti...</td>\n",
       "      <td>known internationally martial arts superstar b...</td>\n",
       "    </tr>\n",
       "  </tbody>\n",
       "</table>\n",
       "</div>"
      ],
      "text/plain": [
       "  ID                        Title  \\\n",
       "0  1         Edgar's Lunch (1998)   \n",
       "1  2     La guerra de papá (1977)   \n",
       "2  3  Off the Beaten Track (2010)   \n",
       "3  4       Meu Amigo Hindu (2015)   \n",
       "4  5            Er nu zhai (1955)   \n",
       "\n",
       "                                         Description  \\\n",
       "0  L.R. Brane loves his life - his car, his apart...   \n",
       "1  Spain, March 1964: Quico is a very naughty chi...   \n",
       "2  One year in the life of Albin and his family o...   \n",
       "3  His father has died, he hasn't spoken with his...   \n",
       "4  Before he was known internationally as a marti...   \n",
       "\n",
       "                                 cleaned_description  \n",
       "0  l r brane loves life car apartment job especia...  \n",
       "1  spain march 1964 quico naughty child three bel...  \n",
       "2  one year life albin family shepherds north tra...  \n",
       "3  father died spoken brother 10 years serious ca...  \n",
       "4  known internationally martial arts superstar b...  "
      ]
     },
     "execution_count": 16,
     "metadata": {},
     "output_type": "execute_result"
    }
   ],
   "source": [
    "test_df.head()"
   ]
  },
  {
   "cell_type": "code",
   "execution_count": 17,
   "id": "b774a8ad",
   "metadata": {},
   "outputs": [],
   "source": [
    "#this part is optional i have done this only for my cencirn\n",
    "test_df.rename(columns={'cleaned_description': 'Cleaned_Description'},inplace=True)"
   ]
  },
  {
   "cell_type": "code",
   "execution_count": 18,
   "id": "39729fec",
   "metadata": {},
   "outputs": [],
   "source": [
    "#this part is optional i have done this only for my cencirn\n",
    "train_df.rename(columns={'cleaned_description': 'Cleaned_Description'},inplace=True)"
   ]
  },
  {
   "cell_type": "code",
   "execution_count": 19,
   "id": "acacb9e1",
   "metadata": {},
   "outputs": [],
   "source": [
    "#this part is optional i have done this only for my cencirn\n",
    "#the readon to copy the data is that its taking to much time to clean\n",
    "traindf = train_df.copy()"
   ]
  },
  {
   "cell_type": "code",
   "execution_count": 20,
   "id": "eeb2bf45",
   "metadata": {},
   "outputs": [],
   "source": [
    "testdf = test_df.copy()"
   ]
  },
  {
   "cell_type": "code",
   "execution_count": 21,
   "id": "434c2326",
   "metadata": {},
   "outputs": [
    {
     "data": {
      "text/html": [
       "<div>\n",
       "<style scoped>\n",
       "    .dataframe tbody tr th:only-of-type {\n",
       "        vertical-align: middle;\n",
       "    }\n",
       "\n",
       "    .dataframe tbody tr th {\n",
       "        vertical-align: top;\n",
       "    }\n",
       "\n",
       "    .dataframe thead th {\n",
       "        text-align: right;\n",
       "    }\n",
       "</style>\n",
       "<table border=\"1\" class=\"dataframe\">\n",
       "  <thead>\n",
       "    <tr style=\"text-align: right;\">\n",
       "      <th></th>\n",
       "      <th>ID</th>\n",
       "      <th>Title</th>\n",
       "      <th>Description</th>\n",
       "      <th>Cleaned_Description</th>\n",
       "    </tr>\n",
       "  </thead>\n",
       "  <tbody>\n",
       "    <tr>\n",
       "      <th>0</th>\n",
       "      <td>1</td>\n",
       "      <td>Edgar's Lunch (1998)</td>\n",
       "      <td>L.R. Brane loves his life - his car, his apart...</td>\n",
       "      <td>l r brane loves life car apartment job especia...</td>\n",
       "    </tr>\n",
       "    <tr>\n",
       "      <th>1</th>\n",
       "      <td>2</td>\n",
       "      <td>La guerra de papá (1977)</td>\n",
       "      <td>Spain, March 1964: Quico is a very naughty chi...</td>\n",
       "      <td>spain march 1964 quico naughty child three bel...</td>\n",
       "    </tr>\n",
       "    <tr>\n",
       "      <th>2</th>\n",
       "      <td>3</td>\n",
       "      <td>Off the Beaten Track (2010)</td>\n",
       "      <td>One year in the life of Albin and his family o...</td>\n",
       "      <td>one year life albin family shepherds north tra...</td>\n",
       "    </tr>\n",
       "    <tr>\n",
       "      <th>3</th>\n",
       "      <td>4</td>\n",
       "      <td>Meu Amigo Hindu (2015)</td>\n",
       "      <td>His father has died, he hasn't spoken with his...</td>\n",
       "      <td>father died spoken brother 10 years serious ca...</td>\n",
       "    </tr>\n",
       "    <tr>\n",
       "      <th>4</th>\n",
       "      <td>5</td>\n",
       "      <td>Er nu zhai (1955)</td>\n",
       "      <td>Before he was known internationally as a marti...</td>\n",
       "      <td>known internationally martial arts superstar b...</td>\n",
       "    </tr>\n",
       "  </tbody>\n",
       "</table>\n",
       "</div>"
      ],
      "text/plain": [
       "  ID                        Title  \\\n",
       "0  1         Edgar's Lunch (1998)   \n",
       "1  2     La guerra de papá (1977)   \n",
       "2  3  Off the Beaten Track (2010)   \n",
       "3  4       Meu Amigo Hindu (2015)   \n",
       "4  5            Er nu zhai (1955)   \n",
       "\n",
       "                                         Description  \\\n",
       "0  L.R. Brane loves his life - his car, his apart...   \n",
       "1  Spain, March 1964: Quico is a very naughty chi...   \n",
       "2  One year in the life of Albin and his family o...   \n",
       "3  His father has died, he hasn't spoken with his...   \n",
       "4  Before he was known internationally as a marti...   \n",
       "\n",
       "                                 Cleaned_Description  \n",
       "0  l r brane loves life car apartment job especia...  \n",
       "1  spain march 1964 quico naughty child three bel...  \n",
       "2  one year life albin family shepherds north tra...  \n",
       "3  father died spoken brother 10 years serious ca...  \n",
       "4  known internationally martial arts superstar b...  "
      ]
     },
     "execution_count": 21,
     "metadata": {},
     "output_type": "execute_result"
    }
   ],
   "source": [
    "testdf.head()"
   ]
  },
  {
   "cell_type": "code",
   "execution_count": 22,
   "id": "fd509ad8",
   "metadata": {},
   "outputs": [
    {
     "data": {
      "text/html": [
       "<div>\n",
       "<style scoped>\n",
       "    .dataframe tbody tr th:only-of-type {\n",
       "        vertical-align: middle;\n",
       "    }\n",
       "\n",
       "    .dataframe tbody tr th {\n",
       "        vertical-align: top;\n",
       "    }\n",
       "\n",
       "    .dataframe thead th {\n",
       "        text-align: right;\n",
       "    }\n",
       "</style>\n",
       "<table border=\"1\" class=\"dataframe\">\n",
       "  <thead>\n",
       "    <tr style=\"text-align: right;\">\n",
       "      <th></th>\n",
       "      <th>ID</th>\n",
       "      <th>Title</th>\n",
       "      <th>Gerne</th>\n",
       "      <th>Description</th>\n",
       "      <th>Cleaned_Description</th>\n",
       "    </tr>\n",
       "  </thead>\n",
       "  <tbody>\n",
       "    <tr>\n",
       "      <th>0</th>\n",
       "      <td>1</td>\n",
       "      <td>Oscar et la dame rose (2009)</td>\n",
       "      <td>drama</td>\n",
       "      <td>Listening in to a conversation between his doc...</td>\n",
       "      <td>listening conversation doctor parents 10 year ...</td>\n",
       "    </tr>\n",
       "    <tr>\n",
       "      <th>1</th>\n",
       "      <td>2</td>\n",
       "      <td>Cupid (1997)</td>\n",
       "      <td>thriller</td>\n",
       "      <td>A brother and sister with a past incestuous re...</td>\n",
       "      <td>brother sister past incestuous relationship cu...</td>\n",
       "    </tr>\n",
       "    <tr>\n",
       "      <th>2</th>\n",
       "      <td>3</td>\n",
       "      <td>Young, Wild and Wonderful (1980)</td>\n",
       "      <td>adult</td>\n",
       "      <td>As the bus empties the students for their fiel...</td>\n",
       "      <td>bus empties students field trip museum natural...</td>\n",
       "    </tr>\n",
       "    <tr>\n",
       "      <th>3</th>\n",
       "      <td>4</td>\n",
       "      <td>The Secret Sin (1915)</td>\n",
       "      <td>drama</td>\n",
       "      <td>To help their unemployed father make ends meet...</td>\n",
       "      <td>help unemployed father make ends meet edith tw...</td>\n",
       "    </tr>\n",
       "    <tr>\n",
       "      <th>4</th>\n",
       "      <td>5</td>\n",
       "      <td>The Unrecovered (2007)</td>\n",
       "      <td>drama</td>\n",
       "      <td>The film's title refers not only to the un-rec...</td>\n",
       "      <td>film title refers un recovered bodies ground z...</td>\n",
       "    </tr>\n",
       "  </tbody>\n",
       "</table>\n",
       "</div>"
      ],
      "text/plain": [
       "  ID                             Title     Gerne  \\\n",
       "0  1      Oscar et la dame rose (2009)     drama   \n",
       "1  2                      Cupid (1997)  thriller   \n",
       "2  3  Young, Wild and Wonderful (1980)     adult   \n",
       "3  4             The Secret Sin (1915)     drama   \n",
       "4  5            The Unrecovered (2007)     drama   \n",
       "\n",
       "                                         Description  \\\n",
       "0  Listening in to a conversation between his doc...   \n",
       "1  A brother and sister with a past incestuous re...   \n",
       "2  As the bus empties the students for their fiel...   \n",
       "3  To help their unemployed father make ends meet...   \n",
       "4  The film's title refers not only to the un-rec...   \n",
       "\n",
       "                                 Cleaned_Description  \n",
       "0  listening conversation doctor parents 10 year ...  \n",
       "1  brother sister past incestuous relationship cu...  \n",
       "2  bus empties students field trip museum natural...  \n",
       "3  help unemployed father make ends meet edith tw...  \n",
       "4  film title refers un recovered bodies ground z...  "
      ]
     },
     "execution_count": 22,
     "metadata": {},
     "output_type": "execute_result"
    }
   ],
   "source": [
    "traindf.head()"
   ]
  },
  {
   "cell_type": "code",
   "execution_count": 23,
   "id": "601177ca",
   "metadata": {},
   "outputs": [],
   "source": [
    "# Clean the data\n",
    "#train_df['cleaned_description'] = train_df['Description'].apply(clean)\n",
    "#test_df['cleaned_description'] = test_df['Description'].apply(clean)\n",
    "\n",
    "# Save the cleaned data to CSV files\n",
    "train_df.to_csv('cleaned_train_data.csv', index=False)\n",
    "test_df.to_csv('cleaned_test_data.csv', index=False)\n"
   ]
  },
  {
   "cell_type": "code",
   "execution_count": 24,
   "id": "def56cb4",
   "metadata": {},
   "outputs": [],
   "source": [
    "from sklearn.feature_extraction.text import TfidfVectorizer\n",
    "\n",
    "# Vectorize the text data\n",
    "vectorizer = TfidfVectorizer(max_features=5000)\n",
    "X_train = vectorizer.fit_transform(train_df['Cleaned_Description']).toarray()\n",
    "X_test = vectorizer.transform(test_df['Cleaned_Description']).toarray()\n"
   ]
  },
  {
   "cell_type": "code",
   "execution_count": 25,
   "id": "3a01f7ea",
   "metadata": {},
   "outputs": [],
   "source": [
    "from sklearn.feature_extraction.text import TfidfVectorizer\n",
    "\n",
    "# Vectorize the text data\n",
    "vectorizer = TfidfVectorizer(max_features=5000)\n",
    "X_train = vectorizer.fit_transform(train_df['Cleaned_Description']).toarray()\n",
    "X_test = vectorizer.transform(test_df['Cleaned_Description']).toarray()\n"
   ]
  },
  {
   "cell_type": "code",
   "execution_count": 26,
   "id": "ce90c854",
   "metadata": {},
   "outputs": [],
   "source": [
    "from sklearn.preprocessing import MultiLabelBinarizer\n",
    "\n",
    "# Split genres into lists\n",
    "train_df['Genre_List'] = train_df['Gerne'].apply(lambda x: x.split(', '))\n",
    "\n",
    "# Encode the genres\n",
    "mlb = MultiLabelBinarizer()\n",
    "y_train = mlb.fit_transform(train_df['Genre_List'])\n"
   ]
  },
  {
   "cell_type": "code",
   "execution_count": 27,
   "id": "0d2d2702",
   "metadata": {},
   "outputs": [
    {
     "name": "stderr",
     "output_type": "stream",
     "text": [
      "c:\\Users\\WWD_5\\OneDrive\\Desktop\\INternship Tasks\\Second Task\\movie_env\\Lib\\site-packages\\keras\\src\\layers\\core\\dense.py:87: UserWarning: Do not pass an `input_shape`/`input_dim` argument to a layer. When using Sequential models, prefer using an `Input(shape)` object as the first layer in the model instead.\n",
      "  super().__init__(activity_regularizer=activity_regularizer, **kwargs)\n"
     ]
    },
    {
     "data": {
      "text/html": [
       "<pre style=\"white-space:pre;overflow-x:auto;line-height:normal;font-family:Menlo,'DejaVu Sans Mono',consolas,'Courier New',monospace\"><span style=\"font-weight: bold\">Model: \"sequential\"</span>\n",
       "</pre>\n"
      ],
      "text/plain": [
       "\u001b[1mModel: \"sequential\"\u001b[0m\n"
      ]
     },
     "metadata": {},
     "output_type": "display_data"
    },
    {
     "data": {
      "text/html": [
       "<pre style=\"white-space:pre;overflow-x:auto;line-height:normal;font-family:Menlo,'DejaVu Sans Mono',consolas,'Courier New',monospace\">┏━━━━━━━━━━━━━━━━━━━━━━━━━━━━━━━━━┳━━━━━━━━━━━━━━━━━━━━━━━━┳━━━━━━━━━━━━━━━┓\n",
       "┃<span style=\"font-weight: bold\"> Layer (type)                    </span>┃<span style=\"font-weight: bold\"> Output Shape           </span>┃<span style=\"font-weight: bold\">       Param # </span>┃\n",
       "┡━━━━━━━━━━━━━━━━━━━━━━━━━━━━━━━━━╇━━━━━━━━━━━━━━━━━━━━━━━━╇━━━━━━━━━━━━━━━┩\n",
       "│ dense (<span style=\"color: #0087ff; text-decoration-color: #0087ff\">Dense</span>)                   │ (<span style=\"color: #00d7ff; text-decoration-color: #00d7ff\">None</span>, <span style=\"color: #00af00; text-decoration-color: #00af00\">512</span>)            │     <span style=\"color: #00af00; text-decoration-color: #00af00\">2,560,512</span> │\n",
       "├─────────────────────────────────┼────────────────────────┼───────────────┤\n",
       "│ dropout (<span style=\"color: #0087ff; text-decoration-color: #0087ff\">Dropout</span>)               │ (<span style=\"color: #00d7ff; text-decoration-color: #00d7ff\">None</span>, <span style=\"color: #00af00; text-decoration-color: #00af00\">512</span>)            │             <span style=\"color: #00af00; text-decoration-color: #00af00\">0</span> │\n",
       "├─────────────────────────────────┼────────────────────────┼───────────────┤\n",
       "│ dense_1 (<span style=\"color: #0087ff; text-decoration-color: #0087ff\">Dense</span>)                 │ (<span style=\"color: #00d7ff; text-decoration-color: #00d7ff\">None</span>, <span style=\"color: #00af00; text-decoration-color: #00af00\">256</span>)            │       <span style=\"color: #00af00; text-decoration-color: #00af00\">131,328</span> │\n",
       "├─────────────────────────────────┼────────────────────────┼───────────────┤\n",
       "│ dropout_1 (<span style=\"color: #0087ff; text-decoration-color: #0087ff\">Dropout</span>)             │ (<span style=\"color: #00d7ff; text-decoration-color: #00d7ff\">None</span>, <span style=\"color: #00af00; text-decoration-color: #00af00\">256</span>)            │             <span style=\"color: #00af00; text-decoration-color: #00af00\">0</span> │\n",
       "├─────────────────────────────────┼────────────────────────┼───────────────┤\n",
       "│ dense_2 (<span style=\"color: #0087ff; text-decoration-color: #0087ff\">Dense</span>)                 │ (<span style=\"color: #00d7ff; text-decoration-color: #00d7ff\">None</span>, <span style=\"color: #00af00; text-decoration-color: #00af00\">27</span>)             │         <span style=\"color: #00af00; text-decoration-color: #00af00\">6,939</span> │\n",
       "└─────────────────────────────────┴────────────────────────┴───────────────┘\n",
       "</pre>\n"
      ],
      "text/plain": [
       "┏━━━━━━━━━━━━━━━━━━━━━━━━━━━━━━━━━┳━━━━━━━━━━━━━━━━━━━━━━━━┳━━━━━━━━━━━━━━━┓\n",
       "┃\u001b[1m \u001b[0m\u001b[1mLayer (type)                   \u001b[0m\u001b[1m \u001b[0m┃\u001b[1m \u001b[0m\u001b[1mOutput Shape          \u001b[0m\u001b[1m \u001b[0m┃\u001b[1m \u001b[0m\u001b[1m      Param #\u001b[0m\u001b[1m \u001b[0m┃\n",
       "┡━━━━━━━━━━━━━━━━━━━━━━━━━━━━━━━━━╇━━━━━━━━━━━━━━━━━━━━━━━━╇━━━━━━━━━━━━━━━┩\n",
       "│ dense (\u001b[38;5;33mDense\u001b[0m)                   │ (\u001b[38;5;45mNone\u001b[0m, \u001b[38;5;34m512\u001b[0m)            │     \u001b[38;5;34m2,560,512\u001b[0m │\n",
       "├─────────────────────────────────┼────────────────────────┼───────────────┤\n",
       "│ dropout (\u001b[38;5;33mDropout\u001b[0m)               │ (\u001b[38;5;45mNone\u001b[0m, \u001b[38;5;34m512\u001b[0m)            │             \u001b[38;5;34m0\u001b[0m │\n",
       "├─────────────────────────────────┼────────────────────────┼───────────────┤\n",
       "│ dense_1 (\u001b[38;5;33mDense\u001b[0m)                 │ (\u001b[38;5;45mNone\u001b[0m, \u001b[38;5;34m256\u001b[0m)            │       \u001b[38;5;34m131,328\u001b[0m │\n",
       "├─────────────────────────────────┼────────────────────────┼───────────────┤\n",
       "│ dropout_1 (\u001b[38;5;33mDropout\u001b[0m)             │ (\u001b[38;5;45mNone\u001b[0m, \u001b[38;5;34m256\u001b[0m)            │             \u001b[38;5;34m0\u001b[0m │\n",
       "├─────────────────────────────────┼────────────────────────┼───────────────┤\n",
       "│ dense_2 (\u001b[38;5;33mDense\u001b[0m)                 │ (\u001b[38;5;45mNone\u001b[0m, \u001b[38;5;34m27\u001b[0m)             │         \u001b[38;5;34m6,939\u001b[0m │\n",
       "└─────────────────────────────────┴────────────────────────┴───────────────┘\n"
      ]
     },
     "metadata": {},
     "output_type": "display_data"
    },
    {
     "data": {
      "text/html": [
       "<pre style=\"white-space:pre;overflow-x:auto;line-height:normal;font-family:Menlo,'DejaVu Sans Mono',consolas,'Courier New',monospace\"><span style=\"font-weight: bold\"> Total params: </span><span style=\"color: #00af00; text-decoration-color: #00af00\">2,698,779</span> (10.30 MB)\n",
       "</pre>\n"
      ],
      "text/plain": [
       "\u001b[1m Total params: \u001b[0m\u001b[38;5;34m2,698,779\u001b[0m (10.30 MB)\n"
      ]
     },
     "metadata": {},
     "output_type": "display_data"
    },
    {
     "data": {
      "text/html": [
       "<pre style=\"white-space:pre;overflow-x:auto;line-height:normal;font-family:Menlo,'DejaVu Sans Mono',consolas,'Courier New',monospace\"><span style=\"font-weight: bold\"> Trainable params: </span><span style=\"color: #00af00; text-decoration-color: #00af00\">2,698,779</span> (10.30 MB)\n",
       "</pre>\n"
      ],
      "text/plain": [
       "\u001b[1m Trainable params: \u001b[0m\u001b[38;5;34m2,698,779\u001b[0m (10.30 MB)\n"
      ]
     },
     "metadata": {},
     "output_type": "display_data"
    },
    {
     "data": {
      "text/html": [
       "<pre style=\"white-space:pre;overflow-x:auto;line-height:normal;font-family:Menlo,'DejaVu Sans Mono',consolas,'Courier New',monospace\"><span style=\"font-weight: bold\"> Non-trainable params: </span><span style=\"color: #00af00; text-decoration-color: #00af00\">0</span> (0.00 B)\n",
       "</pre>\n"
      ],
      "text/plain": [
       "\u001b[1m Non-trainable params: \u001b[0m\u001b[38;5;34m0\u001b[0m (0.00 B)\n"
      ]
     },
     "metadata": {},
     "output_type": "display_data"
    }
   ],
   "source": [
    "import tensorflow as tf\n",
    "from tensorflow.keras.models import Sequential\n",
    "from tensorflow.keras.layers import Dense, Dropout\n",
    "\n",
    "# Define the model\n",
    "model = Sequential([\n",
    "    Dense(512, activation='relu', input_shape=(X_train.shape[1],)),\n",
    "    Dropout(0.5),\n",
    "    Dense(256, activation='relu'),\n",
    "    Dropout(0.5),\n",
    "    Dense(len(mlb.classes_), activation='sigmoid')  # Sigmoid for multi-label classification\n",
    "])\n",
    "\n",
    "# Compile the model\n",
    "model.compile(optimizer='adam', loss='binary_crossentropy', metrics=['accuracy'])\n",
    "\n",
    "# Print the model summary\n",
    "model.summary()\n"
   ]
  },
  {
   "cell_type": "code",
   "execution_count": 28,
   "id": "9d9af316",
   "metadata": {},
   "outputs": [
    {
     "name": "stdout",
     "output_type": "stream",
     "text": [
      "Epoch 1/10\n",
      "\u001b[1m1356/1356\u001b[0m \u001b[32m━━━━━━━━━━━━━━━━━━━━\u001b[0m\u001b[37m\u001b[0m \u001b[1m23s\u001b[0m 16ms/step - accuracy: 0.3797 - loss: 0.1510 - val_accuracy: 0.5752 - val_loss: 0.0805\n",
      "Epoch 2/10\n",
      "\u001b[1m1356/1356\u001b[0m \u001b[32m━━━━━━━━━━━━━━━━━━━━\u001b[0m\u001b[37m\u001b[0m \u001b[1m22s\u001b[0m 16ms/step - accuracy: 0.6121 - loss: 0.0754 - val_accuracy: 0.5891 - val_loss: 0.0767\n",
      "Epoch 3/10\n",
      "\u001b[1m1356/1356\u001b[0m \u001b[32m━━━━━━━━━━━━━━━━━━━━\u001b[0m\u001b[37m\u001b[0m \u001b[1m23s\u001b[0m 17ms/step - accuracy: 0.6823 - loss: 0.0629 - val_accuracy: 0.5901 - val_loss: 0.0780\n",
      "Epoch 4/10\n",
      "\u001b[1m1356/1356\u001b[0m \u001b[32m━━━━━━━━━━━━━━━━━━━━\u001b[0m\u001b[37m\u001b[0m \u001b[1m22s\u001b[0m 16ms/step - accuracy: 0.7386 - loss: 0.0526 - val_accuracy: 0.5865 - val_loss: 0.0810\n",
      "Epoch 5/10\n",
      "\u001b[1m1356/1356\u001b[0m \u001b[32m━━━━━━━━━━━━━━━━━━━━\u001b[0m\u001b[37m\u001b[0m \u001b[1m25s\u001b[0m 19ms/step - accuracy: 0.8088 - loss: 0.0410 - val_accuracy: 0.5751 - val_loss: 0.0879\n",
      "Epoch 6/10\n",
      "\u001b[1m1356/1356\u001b[0m \u001b[32m━━━━━━━━━━━━━━━━━━━━\u001b[0m\u001b[37m\u001b[0m \u001b[1m42s\u001b[0m 31ms/step - accuracy: 0.8657 - loss: 0.0305 - val_accuracy: 0.5697 - val_loss: 0.0996\n",
      "Epoch 7/10\n",
      "\u001b[1m1356/1356\u001b[0m \u001b[32m━━━━━━━━━━━━━━━━━━━━\u001b[0m\u001b[37m\u001b[0m \u001b[1m25s\u001b[0m 18ms/step - accuracy: 0.9101 - loss: 0.0217 - val_accuracy: 0.5640 - val_loss: 0.1097\n",
      "Epoch 8/10\n",
      "\u001b[1m1356/1356\u001b[0m \u001b[32m━━━━━━━━━━━━━━━━━━━━\u001b[0m\u001b[37m\u001b[0m \u001b[1m27s\u001b[0m 20ms/step - accuracy: 0.9368 - loss: 0.0161 - val_accuracy: 0.5626 - val_loss: 0.1225\n",
      "Epoch 9/10\n",
      "\u001b[1m1356/1356\u001b[0m \u001b[32m━━━━━━━━━━━━━━━━━━━━\u001b[0m\u001b[37m\u001b[0m \u001b[1m23s\u001b[0m 17ms/step - accuracy: 0.9543 - loss: 0.0126 - val_accuracy: 0.5649 - val_loss: 0.1349\n",
      "Epoch 10/10\n",
      "\u001b[1m1356/1356\u001b[0m \u001b[32m━━━━━━━━━━━━━━━━━━━━\u001b[0m\u001b[37m\u001b[0m \u001b[1m24s\u001b[0m 18ms/step - accuracy: 0.9665 - loss: 0.0096 - val_accuracy: 0.5620 - val_loss: 0.1411\n"
     ]
    }
   ],
   "source": [
    "# Train the model\n",
    "history = model.fit(X_train, y_train, epochs=10, batch_size=32, validation_split=0.2)\n"
   ]
  },
  {
   "cell_type": "code",
   "execution_count": 29,
   "id": "f468210b",
   "metadata": {},
   "outputs": [
    {
     "name": "stdout",
     "output_type": "stream",
     "text": [
      "\u001b[1m1695/1695\u001b[0m \u001b[32m━━━━━━━━━━━━━━━━━━━━\u001b[0m\u001b[37m\u001b[0m \u001b[1m8s\u001b[0m 5ms/step - accuracy: 0.9889 - loss: 0.0046\n",
      "Loss: 0.029438788071274757\n",
      "Accuracy: 0.9111115336418152\n"
     ]
    }
   ],
   "source": [
    "# Evaluate the model\n",
    "loss, accuracy = model.evaluate(X_train, y_train)\n",
    "print(f'Loss: {loss}')\n",
    "print(f'Accuracy: {accuracy}')"
   ]
  },
  {
   "cell_type": "code",
   "execution_count": 30,
   "id": "e4216f60",
   "metadata": {},
   "outputs": [
    {
     "name": "stderr",
     "output_type": "stream",
     "text": [
      "WARNING:absl:You are saving your model as an HDF5 file via `model.save()` or `keras.saving.save_model(model)`. This file format is considered legacy. We recommend using instead the native Keras format, e.g. `model.save('my_model.keras')` or `keras.saving.save_model(model, 'my_model.keras')`. \n"
     ]
    }
   ],
   "source": [
    "# Save the model\n",
    "model.save('movie_genre_classifier.h5')\n",
    "\n",
    "\n"
   ]
  },
  {
   "cell_type": "code",
   "execution_count": 31,
   "id": "7418dafc",
   "metadata": {},
   "outputs": [],
   "source": [
    "import pickle\n",
    "\n",
    "# Save the vectorizer\n",
    "with open('tfidf_vectorizer.pkl', 'wb') as f:\n",
    "    pickle.dump(vectorizer, f)\n",
    "\n",
    "# Save the MultiLabelBinarizer\n",
    "with open('label_binarizer.pkl', 'wb') as f:\n",
    "    pickle.dump(mlb, f)\n"
   ]
  },
  {
   "cell_type": "code",
   "execution_count": 116,
   "id": "bdaf6f35",
   "metadata": {},
   "outputs": [
    {
     "name": "stdout",
     "output_type": "stream",
     "text": [
      "\u001b[1m1695/1695\u001b[0m \u001b[32m━━━━━━━━━━━━━━━━━━━━\u001b[0m\u001b[37m\u001b[0m \u001b[1m4s\u001b[0m 2ms/step - accuracy: 0.9889 - loss: 0.0046\n",
      "Training Loss: 0.029438788071274757\n",
      "Training Accuracy: 0.9111115336418152\n"
     ]
    }
   ],
   "source": [
    "# Evaluate the model on training set\n",
    "loss, accuracy = model.evaluate(X_train, y_train)\n",
    "print(f'Training Loss: {loss}')\n",
    "print(f'Training Accuracy: {accuracy}')\n"
   ]
  },
  {
   "cell_type": "code",
   "execution_count": 120,
   "id": "a45e247c",
   "metadata": {},
   "outputs": [
    {
     "name": "stderr",
     "output_type": "stream",
     "text": [
      "[nltk_data] Downloading package stopwords to\n",
      "[nltk_data]     C:\\Users\\WWD_5\\AppData\\Roaming\\nltk_data...\n",
      "[nltk_data]   Package stopwords is already up-to-date!\n",
      "WARNING:absl:Compiled the loaded model, but the compiled metrics have yet to be built. `model.compile_metrics` will be empty until you train or evaluate the model.\n"
     ]
    },
    {
     "name": "stdout",
     "output_type": "stream",
     "text": [
      "\u001b[1m1/1\u001b[0m \u001b[32m━━━━━━━━━━━━━━━━━━━━\u001b[0m\u001b[37m\u001b[0m \u001b[1m0s\u001b[0m 37ms/step\n",
      "\u001b[1m1/1\u001b[0m \u001b[32m━━━━━━━━━━━━━━━━━━━━\u001b[0m\u001b[37m\u001b[0m \u001b[1m0s\u001b[0m 32ms/step\n",
      "Predicted Genres for Description 1: [('animation',)]\n",
      "Predicted Genres for Description 2: [('fantasy',)]\n"
     ]
    }
   ],
   "source": [
    "import tensorflow as tf\n",
    "import pickle\n",
    "import re\n",
    "import pandas as pd\n",
    "from sklearn.feature_extraction.text import TfidfVectorizer\n",
    "from sklearn.preprocessing import MultiLabelBinarizer\n",
    "from tensorflow.keras.models import load_model\n",
    "from nltk.corpus import stopwords\n",
    "import nltk\n",
    "nltk.download('stopwords')\n",
    "\n",
    "# Function to clean the text\n",
    "def clean(text):\n",
    "    text = re.sub(r'\\W', ' ', text)\n",
    "    text = re.sub(r'\\s+', ' ', text)\n",
    "    text = text.lower()\n",
    "    words = text.split()\n",
    "    clean_words = [word for word in words if word not in stopwords.words('english')]\n",
    "    return ' '.join(clean_words)\n",
    "\n",
    "# Paths to the artifacts\n",
    "tfidf_vectorizer_path = 'tfidf_vectorizer.pkl'\n",
    "label_binarizer_path = 'label_binarizer.pkl'\n",
    "model_path = 'movie_genre_classifier.h5'\n",
    "\n",
    "# Load the TfidfVectorizer\n",
    "with open(tfidf_vectorizer_path, 'rb') as f:\n",
    "    vectorizer = pickle.load(f)\n",
    "\n",
    "# Load the MultiLabelBinarizer\n",
    "with open(label_binarizer_path, 'rb') as f:\n",
    "    mlb = pickle.load(f)\n",
    "\n",
    "# Load the Keras model\n",
    "model = load_model(model_path)\n",
    "\n",
    "# Example descriptions\n",
    "new_description1 = \"A team of explorers discover a mysterious island filled with prehistoric creatures and ancient civilizations.\"\n",
    "new_description2 = \"A young wizard battles the forces of evil with his friends in a magical school.\"\n",
    "\n",
    "\n",
    "\n",
    "# Clean and vectorize the new descriptions\n",
    "cleaned_description1 = clean(new_description1)\n",
    "cleaned_description2 = clean(new_description2)\n",
    "vectorized_description1 = vectorizer.transform([cleaned_description1]).toarray()\n",
    "vectorized_description2 = vectorizer.transform([cleaned_description2]).toarray()\n",
    "\n",
    "# Predict genres\n",
    "predictions1 = model.predict(vectorized_description1)\n",
    "predictions2 = model.predict(vectorized_description2)\n",
    "\n",
    "# Apply a threshold to get binary predictions\n",
    "threshold = 0.3  # Adjust the threshold as needed\n",
    "binary_predictions1 = (predictions1 > threshold).astype(int)\n",
    "binary_predictions2 = (predictions2 > threshold).astype(int)\n",
    "\n",
    "# Convert binary predictions to genre names\n",
    "predicted_genres1 = mlb.inverse_transform(binary_predictions1)\n",
    "predicted_genres2 = mlb.inverse_transform(binary_predictions2)\n",
    "\n",
    "# Print predictions\n",
    "print(f\"Predicted Genres for Description 1: {predicted_genres1}\")\n",
    "print(f\"Predicted Genres for Description 2: {predicted_genres2}\")\n"
   ]
  },
  {
   "cell_type": "code",
   "execution_count": null,
   "id": "051a6750",
   "metadata": {},
   "outputs": [],
   "source": []
  }
 ],
 "metadata": {
  "kernelspec": {
   "display_name": "Python 3",
   "language": "python",
   "name": "python3"
  },
  "language_info": {
   "codemirror_mode": {
    "name": "ipython",
    "version": 3
   },
   "file_extension": ".py",
   "mimetype": "text/x-python",
   "name": "python",
   "nbconvert_exporter": "python",
   "pygments_lexer": "ipython3",
   "version": "3.12.3"
  }
 },
 "nbformat": 4,
 "nbformat_minor": 5
}
